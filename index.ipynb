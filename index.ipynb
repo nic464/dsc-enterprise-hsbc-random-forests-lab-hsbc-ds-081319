{
 "cells": [
  {
   "cell_type": "markdown",
   "metadata": {},
   "source": [
    "# Tree Ensembles and Random Forests - Lab\n",
    "\n",
    "## Introduction\n",
    "\n",
    "In this lab, we'll create some popular Tree Ensemble models such as a Bag of Trees and a Random Forest to predict a person's salary based on information about them. \n",
    "\n",
    "## Objectives\n",
    "\n",
    "You will be able to:\n",
    "\n",
    "* Create, train, and make predictions with Bagging Classifiers\n",
    "* Create, train, and make predictions with a Random Forest\n",
    "* Understand and explain the concept of bagging as it applies to Ensemble Methods\n",
    "* Understand and explain the Subspace Sampling Method and it's use in Random Forests"
   ]
  },
  {
   "cell_type": "markdown",
   "metadata": {},
   "source": [
    "## 1. Importing the data"
   ]
  },
  {
   "cell_type": "markdown",
   "metadata": {},
   "source": [
    "In this lab, we'll be looking at a dataset of information about people and trying to predict if they make more than 50k/year.  The salary data set was extracted from the census bureau database and contains salary information. The goal is to use this data set and to try to draw conclusions regarding what drives salaries. More specifically, the target variable is categorical (> 50k; <= 50 k). Let's create a classification tree!\n",
    "\n",
    "To get started, run the cell below to import everything we'll need for this lab. "
   ]
  },
  {
   "cell_type": "code",
   "execution_count": 1,
   "metadata": {},
   "outputs": [],
   "source": [
    "import pandas as pd\n",
    "import numpy as np\n",
    "np.random.seed(0)\n",
    "import matplotlib.pyplot as plt\n",
    "from sklearn.model_selection import train_test_split\n",
    "from sklearn.metrics import accuracy_score, confusion_matrix, classification_report\n",
    "from sklearn.tree import DecisionTreeClassifier\n",
    "from sklearn.ensemble import BaggingClassifier, RandomForestClassifier"
   ]
  },
  {
   "cell_type": "markdown",
   "metadata": {},
   "source": [
    "Our dataset is stored in the file `salaries_final.csv`.  \n",
    "\n",
    "In the cell below, read in the dataset from this file and store it in a DataFrame.  Be sure to set the `index_col` parameter to `0`.  Then, display the head of the DataFrame to ensure that everything loaded correctly."
   ]
  },
  {
   "cell_type": "code",
   "execution_count": 3,
   "metadata": {},
   "outputs": [
    {
     "name": "stdout",
     "output_type": "stream",
     "text": [
      "<class 'pandas.core.frame.DataFrame'>\n",
      "RangeIndex: 32561 entries, 0 to 32560\n",
      "Data columns (total 8 columns):\n",
      "Unnamed: 0      32561 non-null int64\n",
      "Age             32561 non-null int64\n",
      "Education       32561 non-null object\n",
      "Occupation      32561 non-null object\n",
      "Relationship    32561 non-null object\n",
      "Race            32561 non-null object\n",
      "Sex             32561 non-null object\n",
      "Target          32561 non-null object\n",
      "dtypes: int64(2), object(6)\n",
      "memory usage: 2.0+ MB\n"
     ]
    }
   ],
   "source": [
    "salaries = pd.read_csv('salaries_final.csv')\n",
    "salaries.info()"
   ]
  },
  {
   "cell_type": "markdown",
   "metadata": {},
   "source": [
    "In total, there are 6 predictors, and one outcome variable, the target salary <= 50k/ >50k."
   ]
  },
  {
   "cell_type": "markdown",
   "metadata": {},
   "source": [
    "recall that the 6 predictors are:\n",
    "\n",
    "- `Age`: continuous.\n",
    "\n",
    "- `Education`: Categorical. Bachelors, Some-college, 11th, HS-grad, Prof-school, Assoc-acdm, Assoc-voc, 9th, 7th-8th, 12th, \n",
    "Masters, 1st-4th, 10th, Doctorate, 5th-6th, Preschool.\n",
    "\n",
    "- `Occupation`: Tech-support, Craft-repair, Other-service, Sales, Exec-managerial, Prof-specialty, Handlers-cleaners, Machine-op-inspct, Adm-clerical, Farming-fishing, Transport-moving, Priv-house-serv, Protective-serv, Armed-Forces.\n",
    "\n",
    "- `Relationship`: Wife, Own-child, Husband, Not-in-family, Other-relative, Unmarried.\n",
    "\n",
    "- `Race`: White, Asian-Pac-Islander, Amer-Indian-Eskimo, Other, Black.\n",
    "\n",
    "- `Sex`: Female, Male."
   ]
  },
  {
   "cell_type": "markdown",
   "metadata": {},
   "source": [
    "First, we'll need to store our `'Target'` column in a separate variable and drop it from the dataset.  \n",
    "\n",
    "Do this in the cell below. "
   ]
  },
  {
   "cell_type": "code",
   "execution_count": 4,
   "metadata": {},
   "outputs": [
    {
     "name": "stdout",
     "output_type": "stream",
     "text": [
      "<class 'pandas.core.frame.DataFrame'>\n",
      "RangeIndex: 32561 entries, 0 to 32560\n",
      "Data columns (total 7 columns):\n",
      "Unnamed: 0      32561 non-null int64\n",
      "Age             32561 non-null int64\n",
      "Education       32561 non-null object\n",
      "Occupation      32561 non-null object\n",
      "Relationship    32561 non-null object\n",
      "Race            32561 non-null object\n",
      "Sex             32561 non-null object\n",
      "dtypes: int64(2), object(5)\n",
      "memory usage: 1.7+ MB\n"
     ]
    }
   ],
   "source": [
    "target = salaries['Target']\n",
    "salaries.drop(['Target'], axis=1, inplace=True)\n",
    "salaries.info()"
   ]
  },
  {
   "cell_type": "markdown",
   "metadata": {},
   "source": [
    "Next, we'll want to confirm that the Age column is currently encoded in a numeric data type, and not a string. By default, pandas will treat all columns encoded as strings as categorical columns, and create a dummy column for each unique value contained within that column.  We do not want a separate column for each age, so let's double check that the age column is encoded as an integer or a float.  \n",
    "\n",
    "In the cell below, check the `.dtypes` of the DataFrame to examine the data type of each column. "
   ]
  },
  {
   "cell_type": "code",
   "execution_count": 6,
   "metadata": {},
   "outputs": [
    {
     "data": {
      "text/plain": [
       "Unnamed: 0       int64\n",
       "Age              int64\n",
       "Education       object\n",
       "Occupation      object\n",
       "Relationship    object\n",
       "Race            object\n",
       "Sex             object\n",
       "dtype: object"
      ]
     },
     "execution_count": 6,
     "metadata": {},
     "output_type": "execute_result"
    }
   ],
   "source": [
    "salaries.dtypes"
   ]
  },
  {
   "cell_type": "markdown",
   "metadata": {},
   "source": [
    "Great.  Now we're ready to create some dummy columns and deal with our categorical variables.  \n",
    "\n",
    "In the cell below, use pandas to create dummy columns for each of categorical variables.  If you're unsure of how to do this, check out the [documentation](https://pandas.pydata.org/pandas-docs/stable/generated/pandas.get_dummies.html).  "
   ]
  },
  {
   "cell_type": "code",
   "execution_count": 9,
   "metadata": {},
   "outputs": [
    {
     "data": {
      "text/plain": [
       "Unnamed: 0                      int64\n",
       "Age                             int64\n",
       "Education_10th                  uint8\n",
       "Education_11th                  uint8\n",
       "Education_12th                  uint8\n",
       "Education_1st-4th               uint8\n",
       "Education_5th-6th               uint8\n",
       "Education_7th-8th               uint8\n",
       "Education_9th                   uint8\n",
       "Education_Assoc-acdm            uint8\n",
       "Education_Assoc-voc             uint8\n",
       "Education_Bachelors             uint8\n",
       "Education_Doctorate             uint8\n",
       "Education_HS-grad               uint8\n",
       "Education_Masters               uint8\n",
       "Education_Preschool             uint8\n",
       "Education_Prof-school           uint8\n",
       "Education_Some-college          uint8\n",
       "Occupation_?                    uint8\n",
       "Occupation_Adm-clerical         uint8\n",
       "Occupation_Armed-Forces         uint8\n",
       "Occupation_Craft-repair         uint8\n",
       "Occupation_Exec-managerial      uint8\n",
       "Occupation_Farming-fishing      uint8\n",
       "Occupation_Handlers-cleaners    uint8\n",
       "Occupation_Machine-op-inspct    uint8\n",
       "Occupation_Other-service        uint8\n",
       "Occupation_Priv-house-serv      uint8\n",
       "Occupation_Prof-specialty       uint8\n",
       "Occupation_Protective-serv      uint8\n",
       "Occupation_Sales                uint8\n",
       "Occupation_Tech-support         uint8\n",
       "Occupation_Transport-moving     uint8\n",
       "Relationship_Husband            uint8\n",
       "Relationship_Not-in-family      uint8\n",
       "Relationship_Other-relative     uint8\n",
       "Relationship_Own-child          uint8\n",
       "Relationship_Unmarried          uint8\n",
       "Relationship_Wife               uint8\n",
       "Race_Amer-Indian-Eskimo         uint8\n",
       "Race_Asian-Pac-Islander         uint8\n",
       "Race_Black                      uint8\n",
       "Race_Other                      uint8\n",
       "Race_White                      uint8\n",
       "Sex_Female                      uint8\n",
       "Sex_Male                        uint8\n",
       "dtype: object"
      ]
     },
     "execution_count": 9,
     "metadata": {},
     "output_type": "execute_result"
    }
   ],
   "source": [
    "data = pd.get_dummies(salaries)\n",
    "data.dtypes"
   ]
  },
  {
   "cell_type": "markdown",
   "metadata": {},
   "source": [
    "Now, split your data and target into training and testing sets using the appropriate method from sklearn. "
   ]
  },
  {
   "cell_type": "code",
   "execution_count": 10,
   "metadata": {},
   "outputs": [],
   "source": [
    "data_train, data_test, target_train, target_test = train_test_split(data, target, test_size=0.3)"
   ]
  },
  {
   "cell_type": "markdown",
   "metadata": {},
   "source": [
    "## 2. Let's rebuild a \"regular\" tree as a baseline\n",
    "\n",
    "We'll begin by fitting a regular Decision Tree Classifier, so that we have something to compare our ensemble methods to.  "
   ]
  },
  {
   "cell_type": "markdown",
   "metadata": {},
   "source": [
    "### 2.1 Building the tree\n",
    "\n",
    "In the cell below, create a Decision Tree Classifier.  Set the `criterion` to `'gini'`, and a `max_depth` of `5`.  Then, fit the tree to our training data and labels.  "
   ]
  },
  {
   "cell_type": "code",
   "execution_count": 13,
   "metadata": {},
   "outputs": [
    {
     "data": {
      "text/plain": [
       "'digraph Tree {\\nnode [shape=box, style=\"filled, rounded\", color=\"black\", fontname=helvetica] ;\\nedge [fontname=helvetica] ;\\n0 [label=<X<SUB>33</SUB> &le; 0.5<br/>gini = 0.365<br/>samples = 22792<br/>value = [17313, 5479]>, fillcolor=\"#e58139ae\"] ;\\n1 [label=<X<SUB>38</SUB> &le; 0.5<br/>gini = 0.176<br/>samples = 13513<br/>value = [12199, 1314]>, fillcolor=\"#e58139e4\"] ;\\n0 -> 1 [labeldistance=2.5, labelangle=45, headlabel=\"True\"] ;\\n2 [label=<X<SUB>1</SUB> &le; 32.5<br/>gini = 0.121<br/>samples = 12423<br/>value = [11621, 802]>, fillcolor=\"#e58139ed\"] ;\\n1 -> 2 ;\\n3 [label=<X<SUB>1</SUB> &le; 27.5<br/>gini = 0.042<br/>samples = 6511<br/>value = [6372, 139]>, fillcolor=\"#e58139f9\"] ;\\n2 -> 3 ;\\n4 [label=<X<SUB>1</SUB> &le; 24.5<br/>gini = 0.019<br/>samples = 4815<br/>value = [4768, 47]>, fillcolor=\"#e58139fc\"] ;\\n3 -> 4 ;\\n5 [label=<gini = 0.009<br/>samples = 3583<br/>value = [3566, 17]>, fillcolor=\"#e58139fe\"] ;\\n4 -> 5 ;\\n6 [label=<gini = 0.048<br/>samples = 1232<br/>value = [1202, 30]>, fillcolor=\"#e58139f9\"] ;\\n4 -> 6 ;\\n7 [label=<X<SUB>11</SUB> &le; 0.5<br/>gini = 0.103<br/>samples = 1696<br/>value = [1604, 92]>, fillcolor=\"#e58139f0\"] ;\\n3 -> 7 ;\\n8 [label=<gini = 0.063<br/>samples = 1385<br/>value = [1340, 45]>, fillcolor=\"#e58139f6\"] ;\\n7 -> 8 ;\\n9 [label=<gini = 0.257<br/>samples = 311<br/>value = [264, 47]>, fillcolor=\"#e58139d2\"] ;\\n7 -> 9 ;\\n10 [label=<X<SUB>28</SUB> &le; 0.5<br/>gini = 0.199<br/>samples = 5912<br/>value = [5249, 663]>, fillcolor=\"#e58139df\"] ;\\n2 -> 10 ;\\n11 [label=<X<SUB>22</SUB> &le; 0.5<br/>gini = 0.164<br/>samples = 5095<br/>value = [4635, 460]>, fillcolor=\"#e58139e6\"] ;\\n10 -> 11 ;\\n12 [label=<gini = 0.123<br/>samples = 4369<br/>value = [4082, 287]>, fillcolor=\"#e58139ed\"] ;\\n11 -> 12 ;\\n13 [label=<gini = 0.363<br/>samples = 726<br/>value = [553, 173]>, fillcolor=\"#e58139af\"] ;\\n11 -> 13 ;\\n14 [label=<X<SUB>16</SUB> &le; 0.5<br/>gini = 0.373<br/>samples = 817<br/>value = [614, 203]>, fillcolor=\"#e58139ab\"] ;\\n10 -> 14 ;\\n15 [label=<gini = 0.345<br/>samples = 759<br/>value = [591, 168]>, fillcolor=\"#e58139b7\"] ;\\n14 -> 15 ;\\n16 [label=<gini = 0.479<br/>samples = 58<br/>value = [23, 35]>, fillcolor=\"#399de557\"] ;\\n14 -> 16 ;\\n17 [label=<X<SUB>28</SUB> &le; 0.5<br/>gini = 0.498<br/>samples = 1090<br/>value = [578, 512]>, fillcolor=\"#e581391d\"] ;\\n1 -> 17 ;\\n18 [label=<X<SUB>22</SUB> &le; 0.5<br/>gini = 0.484<br/>samples = 885<br/>value = [522, 363]>, fillcolor=\"#e581394e\"] ;\\n17 -> 18 ;\\n19 [label=<X<SUB>11</SUB> &le; 0.5<br/>gini = 0.458<br/>samples = 722<br/>value = [466, 256]>, fillcolor=\"#e5813973\"] ;\\n18 -> 19 ;\\n20 [label=<gini = 0.433<br/>samples = 633<br/>value = [432, 201]>, fillcolor=\"#e5813988\"] ;\\n19 -> 20 ;\\n21 [label=<gini = 0.472<br/>samples = 89<br/>value = [34, 55]>, fillcolor=\"#399de561\"] ;\\n19 -> 21 ;\\n22 [label=<X<SUB>1</SUB> &le; 26.5<br/>gini = 0.451<br/>samples = 163<br/>value = [56, 107]>, fillcolor=\"#399de57a\"] ;\\n18 -> 22 ;\\n23 [label=<gini = 0.278<br/>samples = 18<br/>value = [15, 3]>, fillcolor=\"#e58139cc\"] ;\\n22 -> 23 ;\\n24 [label=<gini = 0.406<br/>samples = 145<br/>value = [41, 104]>, fillcolor=\"#399de59a\"] ;\\n22 -> 24 ;\\n25 [label=<X<SUB>1</SUB> &le; 31.5<br/>gini = 0.397<br/>samples = 205<br/>value = [56, 149]>, fillcolor=\"#399de59f\"] ;\\n17 -> 25 ;\\n26 [label=<X<SUB>0</SUB> &le; 31257.0<br/>gini = 0.495<br/>samples = 42<br/>value = [19, 23]>, fillcolor=\"#399de52c\"] ;\\n25 -> 26 ;\\n27 [label=<gini = 0.5<br/>samples = 37<br/>value = [19, 18]>, fillcolor=\"#e581390d\"] ;\\n26 -> 27 ;\\n28 [label=<gini = 0.0<br/>samples = 5<br/>value = [0, 5]>, fillcolor=\"#399de5ff\"] ;\\n26 -> 28 ;\\n29 [label=<X<SUB>13</SUB> &le; 0.5<br/>gini = 0.351<br/>samples = 163<br/>value = [37, 126]>, fillcolor=\"#399de5b4\"] ;\\n25 -> 29 ;\\n30 [label=<gini = 0.317<br/>samples = 152<br/>value = [30, 122]>, fillcolor=\"#399de5c0\"] ;\\n29 -> 30 ;\\n31 [label=<gini = 0.463<br/>samples = 11<br/>value = [7, 4]>, fillcolor=\"#e581396d\"] ;\\n29 -> 31 ;\\n32 [label=<X<SUB>22</SUB> &le; 0.5<br/>gini = 0.495<br/>samples = 9279<br/>value = [5114, 4165]>, fillcolor=\"#e581392f\"] ;\\n0 -> 32 [labeldistance=2.5, labelangle=-45, headlabel=\"False\"] ;\\n33 [label=<X<SUB>28</SUB> &le; 0.5<br/>gini = 0.48<br/>samples = 7690<br/>value = [4617, 3073]>, fillcolor=\"#e5813955\"] ;\\n32 -> 33 ;\\n34 [label=<X<SUB>11</SUB> &le; 0.5<br/>gini = 0.449<br/>samples = 6456<br/>value = [4256, 2200]>, fillcolor=\"#e581397b\"] ;\\n33 -> 34 ;\\n35 [label=<X<SUB>1</SUB> &le; 33.5<br/>gini = 0.425<br/>samples = 5716<br/>value = [3964, 1752]>, fillcolor=\"#e581398e\"] ;\\n34 -> 35 ;\\n36 [label=<gini = 0.295<br/>samples = 1387<br/>value = [1138, 249]>, fillcolor=\"#e58139c7\"] ;\\n35 -> 36 ;\\n37 [label=<gini = 0.453<br/>samples = 4329<br/>value = [2826, 1503]>, fillcolor=\"#e5813977\"] ;\\n35 -> 37 ;\\n38 [label=<X<SUB>1</SUB> &le; 57.5<br/>gini = 0.478<br/>samples = 740<br/>value = [292, 448]>, fillcolor=\"#399de559\"] ;\\n34 -> 38 ;\\n39 [label=<gini = 0.463<br/>samples = 636<br/>value = [232, 404]>, fillcolor=\"#399de56d\"] ;\\n38 -> 39 ;\\n40 [label=<gini = 0.488<br/>samples = 104<br/>value = [60, 44]>, fillcolor=\"#e5813944\"] ;\\n38 -> 40 ;\\n41 [label=<X<SUB>1</SUB> &le; 28.5<br/>gini = 0.414<br/>samples = 1234<br/>value = [361, 873]>, fillcolor=\"#399de596\"] ;\\n33 -> 41 ;\\n42 [label=<X<SUB>1</SUB> &le; 26.5<br/>gini = 0.421<br/>samples = 63<br/>value = [44, 19]>, fillcolor=\"#e5813991\"] ;\\n41 -> 42 ;\\n43 [label=<gini = 0.32<br/>samples = 35<br/>value = [28, 7]>, fillcolor=\"#e58139bf\"] ;\\n42 -> 43 ;\\n44 [label=<gini = 0.49<br/>samples = 28<br/>value = [16, 12]>, fillcolor=\"#e5813940\"] ;\\n42 -> 44 ;\\n45 [label=<X<SUB>16</SUB> &le; 0.5<br/>gini = 0.395<br/>samples = 1171<br/>value = [317, 854]>, fillcolor=\"#399de5a0\"] ;\\n41 -> 45 ;\\n46 [label=<gini = 0.428<br/>samples = 955<br/>value = [296, 659]>, fillcolor=\"#399de58c\"] ;\\n45 -> 46 ;\\n47 [label=<gini = 0.176<br/>samples = 216<br/>value = [21, 195]>, fillcolor=\"#399de5e4\"] ;\\n45 -> 47 ;\\n48 [label=<X<SUB>13</SUB> &le; 0.5<br/>gini = 0.43<br/>samples = 1589<br/>value = [497, 1092]>, fillcolor=\"#399de58b\"] ;\\n32 -> 48 ;\\n49 [label=<X<SUB>17</SUB> &le; 0.5<br/>gini = 0.392<br/>samples = 1295<br/>value = [347, 948]>, fillcolor=\"#399de5a2\"] ;\\n48 -> 49 ;\\n50 [label=<X<SUB>1</SUB> &le; 28.5<br/>gini = 0.344<br/>samples = 982<br/>value = [217, 765]>, fillcolor=\"#399de5b7\"] ;\\n49 -> 50 ;\\n51 [label=<gini = 0.463<br/>samples = 33<br/>value = [21, 12]>, fillcolor=\"#e581396d\"] ;\\n50 -> 51 ;\\n52 [label=<gini = 0.328<br/>samples = 949<br/>value = [196, 753]>, fillcolor=\"#399de5bd\"] ;\\n50 -> 52 ;\\n53 [label=<X<SUB>1</SUB> &le; 39.5<br/>gini = 0.486<br/>samples = 313<br/>value = [130, 183]>, fillcolor=\"#399de54a\"] ;\\n49 -> 53 ;\\n54 [label=<gini = 0.499<br/>samples = 122<br/>value = [64, 58]>, fillcolor=\"#e5813918\"] ;\\n53 -> 54 ;\\n55 [label=<gini = 0.452<br/>samples = 191<br/>value = [66, 125]>, fillcolor=\"#399de578\"] ;\\n53 -> 55 ;\\n56 [label=<X<SUB>1</SUB> &le; 36.5<br/>gini = 0.5<br/>samples = 294<br/>value = [150, 144]>, fillcolor=\"#e581390a\"] ;\\n48 -> 56 ;\\n57 [label=<X<SUB>0</SUB> &le; 27648.5<br/>gini = 0.429<br/>samples = 77<br/>value = [53, 24]>, fillcolor=\"#e581398c\"] ;\\n56 -> 57 ;\\n58 [label=<gini = 0.46<br/>samples = 64<br/>value = [41, 23]>, fillcolor=\"#e5813970\"] ;\\n57 -> 58 ;\\n59 [label=<gini = 0.142<br/>samples = 13<br/>value = [12, 1]>, fillcolor=\"#e58139ea\"] ;\\n57 -> 59 ;\\n60 [label=<X<SUB>0</SUB> &le; 1376.0<br/>gini = 0.494<br/>samples = 217<br/>value = [97, 120]>, fillcolor=\"#399de531\"] ;\\n56 -> 60 ;\\n61 [label=<gini = 0.305<br/>samples = 16<br/>value = [3, 13]>, fillcolor=\"#399de5c4\"] ;\\n60 -> 61 ;\\n62 [label=<gini = 0.498<br/>samples = 201<br/>value = [94, 107]>, fillcolor=\"#399de51f\"] ;\\n60 -> 62 ;\\n}'"
      ]
     },
     "execution_count": 13,
     "metadata": {},
     "output_type": "execute_result"
    }
   ],
   "source": [
    "tree_clf = DecisionTreeClassifier(criterion='gini', max_depth=5)\n",
    "tree_clf.fit(data_train, target_train)\n",
    "\n",
    "from sklearn.tree import export_graphviz\n",
    "\n",
    "export_graphviz(tree_clf,  \n",
    "                filled=True, rounded=True,\n",
    "                special_characters=True)"
   ]
  },
  {
   "cell_type": "markdown",
   "metadata": {},
   "source": [
    "### 2.1 Feature importance\n",
    "\n",
    "Let's quickly examine how important each feature ended up being in our Decision Tree model.  Check the `feature_importances_` attribute of our trained model to see what it displays. "
   ]
  },
  {
   "cell_type": "code",
   "execution_count": null,
   "metadata": {},
   "outputs": [],
   "source": [
    "# Your code here"
   ]
  },
  {
   "cell_type": "markdown",
   "metadata": {},
   "source": [
    "That matrix isn't very helpful, but a visualization of the data it contains could be.  Run the cell below to plot a visualization of the feature importances for this model. Run the cell below to create a visualization of the data stored inside of a model's `.feature_importances_` attribute."
   ]
  },
  {
   "cell_type": "code",
   "execution_count": null,
   "metadata": {},
   "outputs": [],
   "source": [
    "def plot_feature_importances(model):\n",
    "    n_features = data_train.shape[1]\n",
    "    plt.figure(figsize=(8,8))\n",
    "    plt.barh(range(n_features), model.feature_importances_, align='center') \n",
    "    plt.yticks(np.arange(n_features), data_train.columns.values) \n",
    "    plt.xlabel(\"Feature importance\")\n",
    "    plt.ylabel(\"Feature\")\n",
    "\n",
    "plot_feature_importances(tree_clf)"
   ]
  },
  {
   "cell_type": "markdown",
   "metadata": {},
   "source": [
    "### 2.3 Model performance\n",
    "\n",
    "Next, let's see how well our model performed on the data. \n",
    "\n",
    "In the cell below:\n",
    "\n",
    "* Use the classifier to create predictions on our test set. \n",
    "* Print out a `confusion_matrix` of our test set predictions.\n",
    "* Print out a `classification_report` of our test set predictions."
   ]
  },
  {
   "cell_type": "code",
   "execution_count": null,
   "metadata": {},
   "outputs": [],
   "source": [
    "pred = None\n"
   ]
  },
  {
   "cell_type": "markdown",
   "metadata": {},
   "source": [
    "Now, let's check the model's accuracy. Run the cell below to display the test set accuracy of the model. "
   ]
  },
  {
   "cell_type": "code",
   "execution_count": null,
   "metadata": {},
   "outputs": [],
   "source": [
    "print(\"Testing Accuracy for Decision Tree Classifier: {:.4}%\".format(accuracy_score(target_test, pred) * 100))"
   ]
  },
  {
   "cell_type": "markdown",
   "metadata": {},
   "source": [
    "## 3. Bagged trees\n",
    "\n",
    "The first Ensemble approach we'll try is a Bag of Trees.  This will make use of **_Bagging_**, along with a number of Decision Tree Classifier models.  "
   ]
  },
  {
   "cell_type": "markdown",
   "metadata": {},
   "source": [
    "Now, let's create a `BaggingClassifier`.  In the first parameter spot, initialize a `DecisionTreeClassifier` and set the same parameters that we did above for `criterion` and `max_depth`.  Also set the `n_estimators` parameter for our Bagging Classifier to `20`. "
   ]
  },
  {
   "cell_type": "code",
   "execution_count": null,
   "metadata": {},
   "outputs": [],
   "source": [
    "bagged_tree = None"
   ]
  },
  {
   "cell_type": "markdown",
   "metadata": {},
   "source": [
    "Great! Now, fit it to our training data. "
   ]
  },
  {
   "cell_type": "code",
   "execution_count": null,
   "metadata": {},
   "outputs": [],
   "source": [
    "# Your code here"
   ]
  },
  {
   "cell_type": "markdown",
   "metadata": {},
   "source": [
    "Checking the accuracy of a model is such a common task that all (supervised learning) models contain a `score()` method that wraps the `accuracy_score` helper method we've been using.  All we have to do is pass it a dataset and the corresponding labels and it will return the accuracy score for those data/labels.  \n",
    "\n",
    "Let's use it to get the training accuracy of our model. In the cell below, call the `.score()` method on our Bagging model and pass in our training data and training labels as parameters. "
   ]
  },
  {
   "cell_type": "code",
   "execution_count": null,
   "metadata": {},
   "outputs": [],
   "source": [
    "# Your code here"
   ]
  },
  {
   "cell_type": "markdown",
   "metadata": {},
   "source": [
    "Now, let's check the accuracy score that really matters--our testing accuracy.  This time, pass in our testing data and labels to see how the model did.  "
   ]
  },
  {
   "cell_type": "code",
   "execution_count": null,
   "metadata": {},
   "outputs": [],
   "source": [
    "# Your code here"
   ]
  },
  {
   "cell_type": "markdown",
   "metadata": {},
   "source": [
    "## 4. Random forests\n",
    "\n",
    "Another popular ensemble method is the **_Random Forest_** model.  Let's fit a Random Forest Classifier next and see how it measures up compared to all the others. "
   ]
  },
  {
   "cell_type": "markdown",
   "metadata": {},
   "source": [
    "### 4.1 Fitting a random forests model"
   ]
  },
  {
   "cell_type": "markdown",
   "metadata": {},
   "source": [
    "In the cell below, create a `RandomForestClassifier`, and set the number estimators to `100` and the max depth to `5`. Then, fit the model to our training data. "
   ]
  },
  {
   "cell_type": "code",
   "execution_count": null,
   "metadata": {},
   "outputs": [],
   "source": [
    "forest = None"
   ]
  },
  {
   "cell_type": "markdown",
   "metadata": {},
   "source": [
    "Now, let's check the training and testing accuracy of the model using its `.score()` method."
   ]
  },
  {
   "cell_type": "code",
   "execution_count": null,
   "metadata": {},
   "outputs": [],
   "source": [
    "# Your code here"
   ]
  },
  {
   "cell_type": "code",
   "execution_count": null,
   "metadata": {},
   "outputs": [],
   "source": [
    "# Your code here"
   ]
  },
  {
   "cell_type": "markdown",
   "metadata": {},
   "source": [
    "### 4.2 Look at the feature importances"
   ]
  },
  {
   "cell_type": "code",
   "execution_count": null,
   "metadata": {},
   "outputs": [],
   "source": [
    "plot_feature_importances(forest)"
   ]
  },
  {
   "cell_type": "markdown",
   "metadata": {},
   "source": [
    "Note: \"relationship\" represents what this individual is relative to others. For example an\n",
    "individual could be a Husband. Each entry only has one relationship, so it is a bit of a weird attribute.\n",
    "\n",
    "Also note that more features show up. This is a pretty typical result. "
   ]
  },
  {
   "cell_type": "markdown",
   "metadata": {},
   "source": [
    "### 4.3 Look at the trees in your forest"
   ]
  },
  {
   "cell_type": "markdown",
   "metadata": {},
   "source": [
    "Let's create a forest with some small trees. You'll learn how to access trees in your forest!\n",
    "\n",
    "In the cell below, create another `RandomForestClassifier`.  Set the number of estimators to 5, the `max_features` to 10, and the `max_depth` to 2."
   ]
  },
  {
   "cell_type": "code",
   "execution_count": null,
   "metadata": {},
   "outputs": [],
   "source": [
    "forest_2 = None\n"
   ]
  },
  {
   "cell_type": "markdown",
   "metadata": {},
   "source": [
    "Making `max_features` smaller will lead to very different trees in your forest!"
   ]
  },
  {
   "cell_type": "markdown",
   "metadata": {},
   "source": [
    "The trees in your forest are stored in the `.estimators_` attribute.\n",
    "\n",
    "In the cell below, get the first tree from `forest_2.estimators_` and store it in `rf_tree_1`"
   ]
  },
  {
   "cell_type": "code",
   "execution_count": null,
   "metadata": {},
   "outputs": [],
   "source": [
    "rf_tree_1 = None"
   ]
  },
  {
   "cell_type": "markdown",
   "metadata": {},
   "source": [
    "Now, we can reuse our `plot_feature_importances` function to visualize which features this tree was given to use duing subspace sampling. \n",
    "\n",
    "In the cell below, call `plot_feature_importances` on `rf_tree_1`."
   ]
  },
  {
   "cell_type": "code",
   "execution_count": null,
   "metadata": {},
   "outputs": [],
   "source": [
    "# Your code here"
   ]
  },
  {
   "cell_type": "markdown",
   "metadata": {},
   "source": [
    "Now, grab the second tree and store it in `rf_tree_2`, and then pass it to `plot_feature_importances` in the following cell so we can compare which features were most useful to each. "
   ]
  },
  {
   "cell_type": "code",
   "execution_count": null,
   "metadata": {},
   "outputs": [],
   "source": [
    "rf_tree_2 = None"
   ]
  },
  {
   "cell_type": "code",
   "execution_count": null,
   "metadata": {},
   "outputs": [],
   "source": [
    "# Your code here"
   ]
  },
  {
   "cell_type": "markdown",
   "metadata": {},
   "source": [
    "We can see by comparing the two plots that the two trees we examined from our Random Forest look at different attributes, and have wildly different importances for them!\n",
    "\n",
    "## Summary\n",
    "\n",
    "In this lab, we got some practice creating a few different Tree Ensemble Methods. We also learned how to visualize feature importances, and compared individual trees from a Random Forest to see if we could notice the differences in the features they were trained on. "
   ]
  }
 ],
 "metadata": {
  "kernelspec": {
   "display_name": "Python 3",
   "language": "python",
   "name": "python3"
  },
  "language_info": {
   "codemirror_mode": {
    "name": "ipython",
    "version": 3
   },
   "file_extension": ".py",
   "mimetype": "text/x-python",
   "name": "python",
   "nbconvert_exporter": "python",
   "pygments_lexer": "ipython3",
   "version": "3.6.6"
  }
 },
 "nbformat": 4,
 "nbformat_minor": 2
}
